{
 "cells": [
  {
   "cell_type": "code",
   "execution_count": 1,
   "id": "713e6797",
   "metadata": {},
   "outputs": [],
   "source": [
    "#pip install selenium"
   ]
  },
  {
   "cell_type": "code",
   "execution_count": 1,
   "id": "ab4c9470",
   "metadata": {},
   "outputs": [],
   "source": [
    "from selenium import webdriver\n",
    "from selenium.webdriver.common.keys import Keys\n",
    "import pandas as pd"
   ]
  },
  {
   "cell_type": "markdown",
   "id": "91ec5960",
   "metadata": {},
   "source": [
    "## Useful Methods\n",
    "find_elements_by_name\n",
    "\n",
    "find_elements_by_xpath\n",
    "\n",
    "find_elements_by_link_text\n",
    "\n",
    "find_elements_by_partial_link_text\n",
    "\n",
    "find_elements_by_tag_name\n",
    "\n",
    "find_elements_by_class_name\n",
    "\n",
    "find_elements_by_css_selector"
   ]
  },
  {
   "cell_type": "code",
   "execution_count": null,
   "id": "5b8938d5",
   "metadata": {},
   "outputs": [],
   "source": [
    "#https://www.99.co/singapore/sale?listing_type=sale&map_bounds=1.5827095153768858%2C103.49449749970108%2C1.1090706240313446%2C104.12483807587296&page_num=1&page_size=35&property_segments=commercial%2Cindustrial%2Cland&query_coords=1.3039947%2C103.8298507&query_limit=radius&query_type=city&radius_max=1000&rental_type=unit&show_cluster_preview=true&show_description=true&show_future_mrts=true&show_internal_linking=true&show_meta_description=true&show_nearby=true&zoom=11"
   ]
  },
  {
   "cell_type": "code",
   "execution_count": 24,
   "id": "69bd648d",
   "metadata": {},
   "outputs": [],
   "source": [
    "driver = webdriver.Chrome('chromedriver')"
   ]
  },
  {
   "cell_type": "code",
   "execution_count": 68,
   "id": "29b140bf",
   "metadata": {},
   "outputs": [
    {
     "name": "stderr",
     "output_type": "stream",
     "text": [
      "C:\\Users\\User\\AppData\\Local\\Temp/ipykernel_25232/115211437.py:4: DeprecationWarning: find_elements_by_* commands are deprecated. Please use find_elements() instead\n",
      "  sqft = driver.find_elements_by_css_selector(\".cUjn9\")\n",
      "C:\\Users\\User\\AppData\\Local\\Temp/ipykernel_25232/115211437.py:5: DeprecationWarning: find_elements_by_* commands are deprecated. Please use find_elements() instead\n",
      "  price = driver.find_elements_by_css_selector(\"._3XjHl\")\n",
      "C:\\Users\\User\\AppData\\Local\\Temp/ipykernel_25232/115211437.py:6: DeprecationWarning: find_elements_by_* commands are deprecated. Please use find_elements() instead\n",
      "  name = driver.find_elements_by_css_selector(\"._2kH6B\")\n"
     ]
    }
   ],
   "source": [
    "# driver.get(\"https://www.99.co/singapore/sale?listing_type=sale&map_bounds=1.5827095153768858%2C103.49449749970108%2C1.1090706240313446%2C104.12483807587296&page_num=3&page_size=35&property_segments=commercial%2Cindustrial%2Cland&query_coords=1.3039947%2C103.8298507&query_limit=radius&query_type=city&radius_max=1000&rental_type=unit&show_cluster_preview=true&show_description=true&show_future_mrts=true&show_internal_linking=true&show_meta_description=true&show_nearby=true&zoom=11\")\n",
    "# sqft = driver.find_elements_by_css_selector(\".cUjn9\")\n",
    "# price = driver.find_elements_by_css_selector(\"._3XjHl\")\n",
    "# name = driver.find_elements_by_css_selector(\"._2kH6B\")"
   ]
  },
  {
   "cell_type": "code",
   "execution_count": 76,
   "id": "9a186dbc",
   "metadata": {},
   "outputs": [],
   "source": [
    "sqft_list = []\n",
    "sqm_list = []\n",
    "price_list = []\n",
    "psf_list = []\n",
    "name_list = []\n",
    "for s in sqft:\n",
    "    sqft_list.append(s.text.split(\"/\")[0].split(\" \")[0])\n",
    "    sqm_list.append(s.text.split(\"/\")[1].split(\" \")[1])\n",
    "for i in range(0,len(price)):\n",
    "    price_list.append(price[i].text.split(\"\\n\")[0])\n",
    "    psf_list.append(price[i].text.split(\"\\n\")[1])\n",
    "    name_list.append(name[i].text)"
   ]
  },
  {
   "cell_type": "code",
   "execution_count": 77,
   "id": "f9a70bf1",
   "metadata": {},
   "outputs": [
    {
     "data": {
      "text/html": [
       "<div>\n",
       "<style scoped>\n",
       "    .dataframe tbody tr th:only-of-type {\n",
       "        vertical-align: middle;\n",
       "    }\n",
       "\n",
       "    .dataframe tbody tr th {\n",
       "        vertical-align: top;\n",
       "    }\n",
       "\n",
       "    .dataframe thead th {\n",
       "        text-align: right;\n",
       "    }\n",
       "</style>\n",
       "<table border=\"1\" class=\"dataframe\">\n",
       "  <thead>\n",
       "    <tr style=\"text-align: right;\">\n",
       "      <th></th>\n",
       "      <th>name</th>\n",
       "      <th>sqft</th>\n",
       "      <th>sqm</th>\n",
       "      <th>price</th>\n",
       "      <th>psf</th>\n",
       "    </tr>\n",
       "  </thead>\n",
       "  <tbody>\n",
       "    <tr>\n",
       "      <th>0</th>\n",
       "      <td>Factory in Senoko Industrial Estate</td>\n",
       "      <td>90,595</td>\n",
       "      <td>8,416.55</td>\n",
       "      <td>$16,500,000</td>\n",
       "      <td>$182 psf</td>\n",
       "    </tr>\n",
       "    <tr>\n",
       "      <th>1</th>\n",
       "      <td>Factory in Sindo Industrial Estate</td>\n",
       "      <td>9,400</td>\n",
       "      <td>873.29</td>\n",
       "      <td>$8,188,000</td>\n",
       "      <td>$871 psf</td>\n",
       "    </tr>\n",
       "    <tr>\n",
       "      <th>2</th>\n",
       "      <td>Industrial Office in Pantech Business Hub</td>\n",
       "      <td>1,894</td>\n",
       "      <td>175.96</td>\n",
       "      <td>$750,000</td>\n",
       "      <td>$396 psf</td>\n",
       "    </tr>\n",
       "    <tr>\n",
       "      <th>3</th>\n",
       "      <td>Shophouse in Kreta Ayer Conservation Area</td>\n",
       "      <td>2,400</td>\n",
       "      <td>222.97</td>\n",
       "      <td>$32,000,000</td>\n",
       "      <td>$13,333 psf</td>\n",
       "    </tr>\n",
       "    <tr>\n",
       "      <th>4</th>\n",
       "      <td>Retail in Jalan Kayu Estate</td>\n",
       "      <td>2,800</td>\n",
       "      <td>260.13</td>\n",
       "      <td>$6,909,997</td>\n",
       "      <td>$2,468 psf</td>\n",
       "    </tr>\n",
       "  </tbody>\n",
       "</table>\n",
       "</div>"
      ],
      "text/plain": [
       "                                        name    sqft       sqm        price  \\\n",
       "0        Factory in Senoko Industrial Estate  90,595  8,416.55  $16,500,000   \n",
       "1         Factory in Sindo Industrial Estate   9,400    873.29   $8,188,000   \n",
       "2  Industrial Office in Pantech Business Hub   1,894    175.96     $750,000   \n",
       "3  Shophouse in Kreta Ayer Conservation Area   2,400    222.97  $32,000,000   \n",
       "4                Retail in Jalan Kayu Estate   2,800    260.13   $6,909,997   \n",
       "\n",
       "           psf  \n",
       "0     $182 psf  \n",
       "1     $871 psf  \n",
       "2     $396 psf  \n",
       "3  $13,333 psf  \n",
       "4   $2,468 psf  "
      ]
     },
     "execution_count": 77,
     "metadata": {},
     "output_type": "execute_result"
    }
   ],
   "source": [
    "d = {'name': name_list, 'sqft': sqft_list, 'sqm': sqm_list,'price': price_list,'psf': psf_list}\n",
    "df = pd.DataFrame(data=d)\n",
    "df.head()"
   ]
  },
  {
   "cell_type": "code",
   "execution_count": 74,
   "id": "6addce02",
   "metadata": {},
   "outputs": [
    {
     "name": "stdout",
     "output_type": "stream",
     "text": [
      "<class 'pandas.core.frame.DataFrame'>\n",
      "RangeIndex: 35 entries, 0 to 34\n",
      "Data columns (total 5 columns):\n",
      " #   Column  Non-Null Count  Dtype \n",
      "---  ------  --------------  ----- \n",
      " 0   name    35 non-null     object\n",
      " 1   sqft    35 non-null     object\n",
      " 2   sqm     35 non-null     object\n",
      " 3   price   35 non-null     object\n",
      " 4   psf     35 non-null     object\n",
      "dtypes: object(5)\n",
      "memory usage: 1.5+ KB\n"
     ]
    }
   ],
   "source": [
    "df.info()"
   ]
  },
  {
   "cell_type": "code",
   "execution_count": null,
   "id": "54e107aa",
   "metadata": {},
   "outputs": [],
   "source": [
    "\"https://www.99.co/singapore/commercial/sale?page_num=\" + str(page_num)"
   ]
  },
  {
   "cell_type": "code",
   "execution_count": null,
   "id": "80b97184",
   "metadata": {},
   "outputs": [],
   "source": [
    "\"https://www.99.co/singapore/sale?listing_type=sale&page_num=\"+str(page_num)+\"&property_segments=commercial%ery_limit=radius&query_type=city&radius_max=1000&rental_type=unit&show_cluster_preview=true&show_description=true&show_future_mrts=true&show_internal_linking=true&show_meta_description=true&show_nearby=true&zoom=11\""
   ]
  },
  {
   "cell_type": "code",
   "execution_count": 4,
   "id": "e753f4e6",
   "metadata": {},
   "outputs": [
    {
     "name": "stderr",
     "output_type": "stream",
     "text": [
      "C:\\Users\\User\\AppData\\Local\\Temp/ipykernel_12944/3736569884.py:10: DeprecationWarning: find_elements_by_* commands are deprecated. Please use find_elements() instead\n",
      "  sqft = driver.find_elements_by_css_selector(\".cUjn9\")\n",
      "C:\\Users\\User\\AppData\\Local\\Temp/ipykernel_12944/3736569884.py:11: DeprecationWarning: find_elements_by_* commands are deprecated. Please use find_elements() instead\n",
      "  price = driver.find_elements_by_css_selector(\"._3XjHl\")\n",
      "C:\\Users\\User\\AppData\\Local\\Temp/ipykernel_12944/3736569884.py:12: DeprecationWarning: find_elements_by_* commands are deprecated. Please use find_elements() instead\n",
      "  name = driver.find_elements_by_css_selector(\"._2kH6B\")\n"
     ]
    },
    {
     "name": "stdout",
     "output_type": "stream",
     "text": [
      "                           name   sqft     sqm       price       psf\n",
      "0     Factory in Eunos Techpark  2,271  210.98    $976,530  $430 psf\n",
      "1     Factory in Kewalram House  2,282     212  $1,150,000  $504 psf\n",
      "2       Factory in Oxley Bizhub  1,012   94.02    $650,000  $642 psf\n",
      "3  Factory in Novelty Bizcentre  1,863  173.08  $1,638,000  $879 psf\n",
      "4       Factory in Ubi Techpark  3,426  318.29  $1,700,000  $496 psf\n",
      "<class 'pandas.core.frame.DataFrame'>\n",
      "RangeIndex: 35 entries, 0 to 34\n",
      "Data columns (total 5 columns):\n",
      " #   Column  Non-Null Count  Dtype \n",
      "---  ------  --------------  ----- \n",
      " 0   name    35 non-null     object\n",
      " 1   sqft    35 non-null     object\n",
      " 2   sqm     35 non-null     object\n",
      " 3   price   35 non-null     object\n",
      " 4   psf     35 non-null     object\n",
      "dtypes: object(5)\n",
      "memory usage: 1.5+ KB\n",
      "None\n"
     ]
    }
   ],
   "source": [
    "driver = webdriver.Chrome('chromedriver')\n",
    "page_num = 1\n",
    "sqft_list = []\n",
    "sqm_list = []\n",
    "price_list = []\n",
    "psf_list = []\n",
    "name_list = []\n",
    "for i in range(0,3):\n",
    "    driver.get(\"https://www.99.co/singapore/commercial/sale?page_num=\"+str(page_num))\n",
    "    sqft = driver.find_elements_by_css_selector(\".cUjn9\")\n",
    "    price = driver.find_elements_by_css_selector(\"._3XjHl\")\n",
    "    name = driver.find_elements_by_css_selector(\"._2kH6B\")   \n",
    "    for s in sqft:\n",
    "        sqft_list.append(s.text.split(\"/\")[0].split(\" \")[0])\n",
    "        sqm_list.append(s.text.split(\"/\")[1].split(\" \")[1])\n",
    "    for i in range(0,len(price)):\n",
    "        price_list.append(price[i].text.split(\"\\n\")[0])\n",
    "        psf_list.append(price[i].text.split(\"\\n\")[1])\n",
    "        name_list.append(name[i].text)   \n",
    "    page_num+=1\n",
    "d = {'name': name_list, 'sqft': sqft_list, 'sqm': sqm_list,'price': price_list,'psf': psf_list}\n",
    "df = pd.DataFrame(data=d)\n",
    "print(df.head(5))\n",
    "print(df.info())"
   ]
  },
  {
   "cell_type": "code",
   "execution_count": 7,
   "id": "694bc282",
   "metadata": {},
   "outputs": [],
   "source": [
    "# search_bar.clear()\n",
    "# search_bar.send_keys(\"getting started with python\")\n",
    "# search_bar.send_keys(Keys.RETURN)"
   ]
  },
  {
   "cell_type": "code",
   "execution_count": 9,
   "id": "f36dbc7c",
   "metadata": {},
   "outputs": [],
   "source": [
    "driver.close()"
   ]
  },
  {
   "cell_type": "code",
   "execution_count": null,
   "id": "83a675b8",
   "metadata": {},
   "outputs": [],
   "source": []
  },
  {
   "cell_type": "code",
   "execution_count": null,
   "id": "8c3eacb9",
   "metadata": {},
   "outputs": [],
   "source": []
  },
  {
   "cell_type": "code",
   "execution_count": null,
   "id": "e93e7a61",
   "metadata": {},
   "outputs": [],
   "source": []
  }
 ],
 "metadata": {
  "kernelspec": {
   "display_name": "Python 3 (ipykernel)",
   "language": "python",
   "name": "python3"
  },
  "language_info": {
   "codemirror_mode": {
    "name": "ipython",
    "version": 3
   },
   "file_extension": ".py",
   "mimetype": "text/x-python",
   "name": "python",
   "nbconvert_exporter": "python",
   "pygments_lexer": "ipython3",
   "version": "3.8.5"
  }
 },
 "nbformat": 4,
 "nbformat_minor": 5
}
